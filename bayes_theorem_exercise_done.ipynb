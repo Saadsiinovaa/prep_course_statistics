{
 "cells": [
  {
   "cell_type": "markdown",
   "metadata": {
    "ExecuteTime": {
     "end_time": "2020-02-05T17:56:18.818219Z",
     "start_time": "2020-02-05T17:56:18.810698Z"
    }
   },
   "source": [
    "## Exercise 1\n",
    "In Orange County, 51% of the adults are males. (It doesn't take too much advanced\n",
    "mathematics to deduce that the other 49% are females.) One adult is randomly selected\n",
    "for a survey involving credit card usage.\n",
    "\n",
    "- **(a)** Find the probability that the selected person is a male.\n",
    "\n",
    "- **(b)** It is later learned that the selected survey subject was smoking a cigar. Also, 9.5% of males smoke cigars, whereas 1.7% of females smoke cigars (based on data from the Substance Abuse and Mental Health Services Administration). Use this additional information to find the probability that the cigar−smoking respondent is a male\n",
    "\n",
    "Use following notation:\n",
    "M = male <br>\n",
    "F = female <br>\n",
    "C = cigar smoker<br>\n",
    "NC = not a cigar smoker<br>\n"
   ]
  },
  {
   "cell_type": "code",
   "execution_count": 7,
   "metadata": {},
   "outputs": [
    {
     "name": "stdout",
     "output_type": "stream",
     "text": [
      "b) #arithmatic\n",
      " P(M)=.51 \n",
      " P(C)=0.095*0.51+0.017*0.49=0.05678 \n",
      " P(C|M)=0.095 \n",
      " P(M|C)=P(M)P(C|M)/P(C)=0.8532934131736528\n"
     ]
    }
   ],
   "source": [
    "print('b) #arithmatic\\n P(M)=.51 \\n P(C)=0.095*0.51+0.017*0.49=0.05678 \\n P(C|M)=0.095 \\n P(M|C)=P(M)P(C|M)/P(C)=0.8532934131736528')"
   ]
  },
  {
   "cell_type": "code",
   "execution_count": 8,
   "metadata": {},
   "outputs": [
    {
     "name": "stdout",
     "output_type": "stream",
     "text": [
      "b) #arithmatic a)P(M)=.51\n"
     ]
    }
   ],
   "source": [
    "print('b) #arithmatic a)P(M)=.51')"
   ]
  },
  {
   "cell_type": "code",
   "execution_count": 9,
   "metadata": {},
   "outputs": [
    {
     "name": "stdout",
     "output_type": "stream",
     "text": [
      "50.580000000000005 %\n"
     ]
    }
   ],
   "source": [
    "import numpy as np\n",
    "n_runs = 100000\n",
    "M, F, C, NC = 0, 0, 0, 0\n",
    "\n",
    "# how many times we run the simulation\n",
    "n_runs = 10000\n",
    "# initialize variables\n",
    "M, F, C, NC = 0, 0, 0, 0\n",
    "# process simulation\n",
    " \n",
    "for _ in range(n_runs):\n",
    "    #probability of being a Male \n",
    "    if np.random.random() < 0.51:\n",
    "        M += 1\n",
    "P_M = M / n_runs * 100\n",
    "print(f'{P_M} %')"
   ]
  },
  {
   "cell_type": "code",
   "execution_count": 10,
   "metadata": {},
   "outputs": [],
   "source": [
    "# how many times we run the simulation\n",
    "n_runs = 10000\n",
    "# initialize variables\n",
    "M, F, C, NC = 0, 0, 0, 0\n",
    "M_C, M_NC, F_C, F_NC = 0, 0, 0, 0\n",
    "\n",
    "for _ in range(n_runs):\n",
    "    #probability of being a Male \n",
    "    if np.random.random() < 0.51:\n",
    "        M += 1\n",
    "        #probability of  being a C while being a Male\n",
    "        if np.random.random() < 0.095:\n",
    "            M_C += 1\n",
    "            C += 1\n",
    "        #probability of  being a NC while being a Male\n",
    "        else:\n",
    "            M_NC += 1\n",
    "            NC += 1\n",
    "            \n",
    "    else:\n",
    "         #probability of  being a Female\n",
    "        F += 1\n",
    "         #probability of  being a C while being a Fmale\n",
    "        if np.random.random() < 0.017:\n",
    "            F_C += 1\n",
    "            C += 1\n",
    "         #probability of  being a NC while being a Fmale\n",
    "        else:\n",
    "            F_NC += 1\n",
    "            NC += 1\n",
    "    "
   ]
  },
  {
   "cell_type": "code",
   "execution_count": 11,
   "metadata": {},
   "outputs": [],
   "source": [
    "# create probabilities\n",
    "P_M = M / n_runs * 100\n",
    "P_F = F / n_runs * 100\n",
    "P_C = C / n_runs * 100\n",
    "P_NC = NC / n_runs * 100\n",
    "P_M_C = M_C / n_runs * 100"
   ]
  },
  {
   "cell_type": "code",
   "execution_count": 12,
   "metadata": {},
   "outputs": [
    {
     "name": "stdout",
     "output_type": "stream",
     "text": [
      "0.8672566371681416\n"
     ]
    }
   ],
   "source": [
    "#b) P(M|C)\n",
    "P_MALE_CIGAR = P_M_C / P_C\n",
    "print(P_MALE_CIGAR)"
   ]
  },
  {
   "cell_type": "markdown",
   "metadata": {
    "ExecuteTime": {
     "end_time": "2020-02-05T17:56:20.532960Z",
     "start_time": "2020-02-05T17:56:20.525450Z"
    }
   },
   "source": [
    "# Exercise 2\n",
    "\n",
    "A diagnostic test has a probability 0.95 of giving a positive result when applied to a person suffering\n",
    "from a certain disease, and a probability 0.10 of giving a (false) positive when applied to a non-sufferer. It is\n",
    "estimated that 0.5 % of the population are sufferers. Suppose that the test is now administered to a person about\n",
    "whom we have no relevant information relating to the disease (apart from the fact that he/she comes from this\n",
    "population). \n",
    "\n",
    "Calculate the following probabilities:\n",
    "- **(a)** that the test result will be positive;\n",
    "- **(b)** that, given a positive result, the person is a sufferer;\n",
    "- **(c)** that, given a negative result, the person is a non-sufferer;\n",
    "- **(d)** that the person will be misclassified.\n",
    "\n",
    "Use following notation:\n",
    "\n",
    "T = test positive <br>\n",
    "NT = test negative<br>\n",
    "S = sufferer<br>\n",
    "NS = non-sufferer<br>\n",
    "M = misclassified<br>\n",
    "\n",
    "Solve it by two approaches:\n",
    "1. Arithmetically\n",
    "2. By simulation"
   ]
  },
  {
   "cell_type": "code",
   "execution_count": 64,
   "metadata": {},
   "outputs": [],
   "source": [
    "import numpy as np\n",
    "n_runs=10000000\n",
    "T,NT,S,NS,M=0,0,0,0,0\n",
    "S_T,S_NT,NS_T,NS_NT=0,0,0,0\n",
    "for _ in range(n_runs):\n",
    "    #probability of being a sufferer \n",
    "    if np.random.random() < 0.005:\n",
    "        S+= 1\n",
    "        #probability of  being a T while a S\n",
    "        if np.random.random() < 0.95:\n",
    "            S_T += 1\n",
    "            T += 1\n",
    "        #probability of  being a NT while being a S\n",
    "        else:\n",
    "            S_NT += 1\n",
    "            NT += 1\n",
    "            M+=1\n",
    "            \n",
    "    else:\n",
    "        #probability of  being a NS\n",
    "        NS += 1\n",
    "         #probability of being a T while being a NS\n",
    "        if np.random.random() < 0.1:\n",
    "            NS_T += 1\n",
    "            T += 1\n",
    "            M+=1\n",
    "         #probability of  being a NT while being a NS\n",
    "        else: \n",
    "            NS_NT += 1\n",
    "            NT += 1\n",
    "    "
   ]
  },
  {
   "cell_type": "code",
   "execution_count": 75,
   "metadata": {},
   "outputs": [],
   "source": [
    "# create probabilities\n",
    "P_S = S / n_runs * 100\n",
    "P_T = T / n_runs * 100\n",
    "P_NT = NT / n_runs * 100\n",
    "P_NS = NS / n_runs * 100\n",
    "P_NS_NT = NS_NT / n_runs * 100  #correct result\n",
    "P_S_T = S_T / n_runs * 100      #correct result\n",
    "P_M = M / n_runs * 100         #misclassified\n",
    "P_S_NT = S_NT / n_runs * 100\n",
    "P_NS_T = NS_T / n_runs * 100"
   ]
  },
  {
   "cell_type": "code",
   "execution_count": 76,
   "metadata": {},
   "outputs": [
    {
     "name": "stdout",
     "output_type": "stream",
     "text": [
      "a) P of positive test is 10.43038\n"
     ]
    }
   ],
   "source": [
    "print('a) P of positive test is {}'.format(P_T))"
   ]
  },
  {
   "cell_type": "code",
   "execution_count": 77,
   "metadata": {},
   "outputs": [
    {
     "name": "stdout",
     "output_type": "stream",
     "text": [
      "b) P of S_T is 0.04519873676702095\n"
     ]
    }
   ],
   "source": [
    "P_T_Sufferer = P_S_T / P_T\n",
    "print('b) P of S_T is {}'.format(P_T_Sufferer))"
   ]
  },
  {
   "cell_type": "code",
   "execution_count": 73,
   "metadata": {},
   "outputs": [
    {
     "name": "stdout",
     "output_type": "stream",
     "text": [
      "c) P of NS_NT is 0.9997239019212094\n"
     ]
    }
   ],
   "source": [
    "P_NT_Non_Sufferer = P_NS_NT / P_NT\n",
    "\n",
    "print('c) P of NS_NT is {}'.format(P_NT_Non_Sufferer))"
   ]
  },
  {
   "cell_type": "code",
   "execution_count": 78,
   "metadata": {},
   "outputs": [
    {
     "name": "stdout",
     "output_type": "stream",
     "text": [
      "d) P of misclassified is 9.98367\n"
     ]
    }
   ],
   "source": [
    "\n",
    "# other way P_M = P_S_NT + P_NS_T\n",
    "print('d) P of misclassified is {}'.format(P_M))"
   ]
  },
  {
   "cell_type": "markdown",
   "metadata": {},
   "source": [
    "P(T|S) = 0.95\n",
    "\n",
    "P(T|NS) = 0.1\n",
    "\n",
    "P(NT|NS)=1-0.1=.9\n",
    "\n",
    "P(S) = 0.005\n",
    "\n",
    "P(NS)=1-0.005=.995\n",
    "\n",
    "\n",
    "a) P(T)=P(T|S)P(S) + P(T|NS)P(NS)=0.005*0.95+0.1*0.995=0.1042\n",
    "\n",
    "P(NT)=1-P(T)=0.8958\n",
    "\n",
    "b)P(S|T)=P(S)/P(T)*P(T|S)=0.005/0.1042*0.95=0.04558541266794625\n",
    "\n",
    "c)P(NS|NT)=P(NS)/P(NT)*P(NT|NS)=0.995/0.8958*.9=0.99966\n",
    "\n",
    "d)P(M) = P(NT|S)P(S) + P(T|NS)P(NS) = 0.05*0.005+0.1*0.995=0.09975\n",
    "\n",
    "\n"
   ]
  },
  {
   "cell_type": "code",
   "execution_count": 36,
   "metadata": {},
   "outputs": [
    {
     "data": {
      "text/plain": [
       "0.08983000000000001"
      ]
     },
     "execution_count": 36,
     "metadata": {},
     "output_type": "execute_result"
    }
   ],
   "source": [
    "\n",
    "\n"
   ]
  },
  {
   "cell_type": "code",
   "execution_count": null,
   "metadata": {},
   "outputs": [],
   "source": []
  }
 ],
 "metadata": {
  "kernelspec": {
   "display_name": "Python 3 (ipykernel)",
   "language": "python",
   "name": "python3"
  },
  "language_info": {
   "codemirror_mode": {
    "name": "ipython",
    "version": 3
   },
   "file_extension": ".py",
   "mimetype": "text/x-python",
   "name": "python",
   "nbconvert_exporter": "python",
   "pygments_lexer": "ipython3",
   "version": "3.8.8"
  },
  "toc": {
   "base_numbering": 1,
   "nav_menu": {},
   "number_sections": true,
   "sideBar": true,
   "skip_h1_title": false,
   "title_cell": "Table of Contents",
   "title_sidebar": "Contents",
   "toc_cell": false,
   "toc_position": {},
   "toc_section_display": true,
   "toc_window_display": false
  },
  "varInspector": {
   "cols": {
    "lenName": 16,
    "lenType": 16,
    "lenVar": 40
   },
   "kernels_config": {
    "python": {
     "delete_cmd_postfix": "",
     "delete_cmd_prefix": "del ",
     "library": "var_list.py",
     "varRefreshCmd": "print(var_dic_list())"
    },
    "r": {
     "delete_cmd_postfix": ") ",
     "delete_cmd_prefix": "rm(",
     "library": "var_list.r",
     "varRefreshCmd": "cat(var_dic_list()) "
    }
   },
   "types_to_exclude": [
    "module",
    "function",
    "builtin_function_or_method",
    "instance",
    "_Feature"
   ],
   "window_display": false
  }
 },
 "nbformat": 4,
 "nbformat_minor": 4
}

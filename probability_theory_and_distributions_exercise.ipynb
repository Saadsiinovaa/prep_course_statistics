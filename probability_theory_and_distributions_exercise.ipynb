{
 "cells": [
  {
   "cell_type": "code",
   "execution_count": 1,
   "metadata": {
    "ExecuteTime": {
     "end_time": "2020-02-05T17:54:42.062131Z",
     "start_time": "2020-02-05T17:54:41.626763Z"
    }
   },
   "outputs": [],
   "source": [
    "# import numpy\n",
    "import numpy as np\n",
    "\n",
    "# import matplotlib.pyplot\n",
    "import matplotlib.pyplot as plt\n",
    "\n",
    "# import Counter\n",
    "from collections import Counter\n",
    "\n",
    "# use style 'fivethirtyeight' (optional)\n",
    "plt.style.use('fivethirtyeight')"
   ]
  },
  {
   "cell_type": "markdown",
   "metadata": {
    "ExecuteTime": {
     "end_time": "2020-02-05T17:54:42.113199Z",
     "start_time": "2020-02-05T17:54:42.101587Z"
    }
   },
   "source": [
    "#### Create function `perform_bernoulli_trial` with parameters n and p\n",
    "\n",
    "PARAMS:\n",
    "- n (int) - number of trials\n",
    "- p (float) - probability of success\n",
    "\n",
    "RETURNS:\n",
    "- n_success (int) - number of successes\n",
    "\n"
   ]
  },
  {
   "cell_type": "code",
   "execution_count": 2,
   "metadata": {},
   "outputs": [],
   "source": [
    "def perform_bernoulli_trial(n,p):\n",
    "    n_success = 0\n",
    "    for i in range(n):\n",
    "        # Choose random number between zero and one: random_number\\n\",\n",
    "        random_number = np.random.random()\n",
    "        # If less than p, it's a success so add one to n_success\\n\",\n",
    "        if random_number < p:\n",
    "         n_success+=1\n",
    "    \n",
    "    \n",
    "    return(n_success)"
   ]
  },
  {
   "cell_type": "code",
   "execution_count": null,
   "metadata": {},
   "outputs": [],
   "source": []
  },
  {
   "cell_type": "markdown",
   "metadata": {
    "ExecuteTime": {
     "end_time": "2020-02-05T17:54:42.610756Z",
     "start_time": "2020-02-05T17:54:42.602316Z"
    }
   },
   "source": [
    "#### Use function `perform_bernoulli_trial` with inputs n = 100, p = 0.5"
   ]
  },
  {
   "cell_type": "code",
   "execution_count": 3,
   "metadata": {},
   "outputs": [
    {
     "data": {
      "text/plain": [
       "59"
      ]
     },
     "execution_count": 3,
     "metadata": {},
     "output_type": "execute_result"
    }
   ],
   "source": [
    "perform_bernoulli_trial(100,0.5)"
   ]
  },
  {
   "cell_type": "code",
   "execution_count": null,
   "metadata": {},
   "outputs": [],
   "source": []
  },
  {
   "cell_type": "markdown",
   "metadata": {
    "ExecuteTime": {
     "end_time": "2020-02-05T17:54:43.020097Z",
     "start_time": "2020-02-05T17:54:42.962800Z"
    }
   },
   "source": [
    "#### Call function _perform_bernoulli_trial_ 1000-times with same parameters as before and store the result in `successes_list`"
   ]
  },
  {
   "cell_type": "code",
   "execution_count": 4,
   "metadata": {},
   "outputs": [
    {
     "name": "stdout",
     "output_type": "stream",
     "text": [
      "[51, 46, 48, 50, 47, 52, 43, 53, 58, 54, 44, 46, 44, 51, 49, 57, 43, 42, 48, 50, 60, 54, 51, 54, 49, 46, 50, 61, 54, 55, 60, 46, 43, 41, 49, 55, 49, 42, 51, 54, 43, 56, 59, 53, 52, 49, 51, 44, 53, 49, 53, 54, 45, 44, 56, 57, 49, 51, 57, 49, 51, 53, 51, 46, 50, 46, 47, 49, 50, 50, 54, 55, 44, 54, 49, 50, 52, 61, 44, 47, 34, 56, 48, 49, 49, 42, 44, 51, 46, 45, 53, 47, 49, 54, 56, 59, 49, 60, 51, 56, 49, 51, 51, 50, 48, 48, 54, 54, 49, 47, 47, 43, 54, 49, 58, 54, 52, 57, 52, 58, 56, 49, 50, 44, 54, 48, 46, 56, 43, 49, 65, 49, 55, 55, 48, 52, 43, 48, 50, 50, 56, 46, 50, 55, 54, 54, 48, 41, 52, 48, 54, 54, 44, 45, 56, 49, 49, 44, 60, 53, 62, 47, 52, 53, 52, 57, 52, 54, 44, 49, 54, 48, 47, 49, 51, 58, 54, 58, 49, 45, 51, 52, 47, 54, 46, 49, 56, 56, 44, 48, 35, 49, 52, 45, 41, 55, 53, 53, 43, 58, 48, 46, 56, 51, 47, 53, 48, 55, 44, 44, 48, 57, 56, 44, 51, 54, 47, 52, 49, 53, 51, 61, 56, 45, 56, 53, 50, 47, 53, 54, 53, 43, 53, 46, 57, 51, 52, 44, 46, 39, 57, 37, 62, 56, 53, 51, 54, 53, 47, 52, 43, 37, 45, 49, 46, 45, 45, 46, 65, 38, 61, 44, 48, 39, 50, 45, 47, 55, 47, 49, 51, 57, 47, 55, 55, 56, 53, 54, 40, 52, 49, 39, 57, 48, 44, 55, 52, 46, 41, 44, 49, 50, 47, 58, 52, 49, 48, 53, 53, 41, 51, 50, 51, 51, 54, 47, 48, 44, 52, 40, 52, 47, 57, 52, 53, 49, 49, 49, 50, 50, 55, 54, 48, 46, 42, 51, 48, 56, 55, 45, 48, 55, 52, 56, 48, 58, 51, 62, 59, 58, 55, 52, 53, 49, 44, 50, 49, 53, 56, 48, 51, 51, 55, 41, 46, 51, 52, 59, 52, 61, 52, 60, 54, 51, 45, 45, 51, 39, 42, 54, 47, 42, 52, 45, 51, 53, 51, 62, 48, 47, 46, 55, 58, 47, 49, 55, 55, 51, 41, 54, 48, 54, 48, 44, 42, 49, 41, 48, 55, 50, 48, 59, 54, 53, 54, 41, 46, 43, 45, 50, 48, 50, 57, 54, 50, 43, 45, 46, 46, 56, 52, 48, 47, 52, 44, 52, 50, 56, 39, 55, 49, 51, 47, 51, 58, 59, 51, 53, 52, 51, 56, 53, 57, 44, 49, 52, 56, 51, 52, 57, 42, 52, 57, 46, 47, 56, 56, 49, 46, 54, 53, 48, 50, 50, 58, 48, 55, 48, 49, 51, 49, 47, 47, 41, 46, 50, 56, 49, 56, 50, 54, 47, 49, 50, 46, 46, 52, 48, 46, 43, 54, 49, 55, 54, 53, 51, 52, 49, 55, 38, 50, 52, 51, 52, 56, 50, 48, 54, 51, 41, 60, 54, 50, 45, 44, 50, 51, 61, 60, 47, 54, 57, 46, 54, 45, 48, 46, 50, 48, 49, 35, 51, 49, 51, 53, 57, 49, 44, 43, 52, 56, 57, 56, 53, 56, 56, 58, 41, 44, 43, 44, 50, 51, 55, 61, 52, 44, 50, 40, 52, 55, 51, 47, 49, 42, 50, 50, 51, 51, 53, 41, 47, 63, 51, 53, 52, 55, 53, 52, 54, 43, 57, 48, 57, 52, 55, 52, 57, 59, 52, 41, 48, 60, 50, 53, 52, 57, 46, 56, 46, 58, 40, 43, 49, 56, 48, 46, 48, 54, 47, 50, 42, 54, 52, 41, 53, 52, 57, 51, 37, 49, 61, 44, 49, 47, 53, 52, 44, 51, 43, 42, 55, 53, 47, 54, 52, 43, 45, 54, 59, 56, 53, 56, 40, 46, 56, 50, 48, 48, 52, 49, 49, 55, 52, 51, 44, 53, 59, 52, 57, 62, 43, 50, 50, 48, 45, 45, 40, 46, 50, 50, 54, 47, 52, 51, 37, 53, 56, 57, 53, 55, 53, 48, 43, 49, 50, 50, 47, 51, 59, 55, 47, 42, 51, 46, 54, 40, 50, 51, 45, 56, 52, 52, 54, 47, 50, 53, 38, 53, 49, 49, 51, 52, 41, 50, 41, 54, 52, 49, 44, 44, 49, 43, 51, 50, 53, 50, 53, 52, 56, 47, 46, 62, 54, 48, 42, 49, 48, 55, 52, 47, 54, 50, 49, 47, 48, 55, 48, 55, 51, 49, 48, 45, 42, 47, 56, 52, 54, 48, 55, 40, 54, 63, 50, 60, 44, 57, 47, 45, 49, 47, 50, 54, 46, 45, 51, 50, 39, 41, 49, 50, 50, 54, 51, 46, 48, 46, 58, 57, 50, 52, 46, 45, 51, 51, 47, 51, 61, 51, 46, 51, 52, 52, 49, 50, 42, 49, 50, 47, 49, 51, 48, 52, 48, 51, 52, 49, 52, 51, 47, 59, 49, 46, 43, 52, 49, 51, 53, 54, 46, 47, 57, 52, 42, 44, 51, 56, 55, 53, 56, 58, 52, 52, 50, 40, 56, 44, 49, 51, 42, 48, 55, 42, 46, 57, 50, 56, 50, 48, 52, 51, 53, 51, 50, 48, 48, 56, 57, 45, 50, 45, 53, 48, 55, 47, 49, 46, 60, 50, 53, 56, 47, 58, 48, 46, 51, 49, 56, 46, 48, 53, 47, 61, 54, 48, 45, 57, 57, 55, 55, 53, 48, 48, 40, 42, 49, 42, 52, 52, 45, 51, 55, 50, 64, 50, 45, 51, 52, 47, 51, 44, 52, 45, 48, 49, 46, 48, 50, 51, 44, 53, 45, 42, 44, 54, 48, 54, 55, 62, 42, 49, 53, 44, 54, 50, 53, 46, 50, 48, 52, 52, 48, 48, 42, 47, 53, 54, 50, 46, 45, 38, 50, 56, 55, 56, 46, 51, 47, 57, 53, 47, 60, 45, 40, 50, 49, 49, 49, 56, 40, 56, 48, 43, 51, 57, 53, 52, 57, 55, 46, 52, 47, 52, 57, 51, 44, 50, 57, 48, 44]\n"
     ]
    }
   ],
   "source": [
    "successes_list=[]\n",
    "for i in range(1000):\n",
    "    successes_list.append(perform_bernoulli_trial(100,0.5))\n",
    "print(successes_list)   "
   ]
  },
  {
   "cell_type": "code",
   "execution_count": null,
   "metadata": {},
   "outputs": [],
   "source": []
  },
  {
   "cell_type": "markdown",
   "metadata": {
    "ExecuteTime": {
     "end_time": "2020-02-05T17:54:43.296477Z",
     "start_time": "2020-02-05T17:54:43.289959Z"
    }
   },
   "source": [
    "#### Count occurence of each number from `successes_list` using Counter and store the result in `count_occurence`\n",
    "\n",
    "You can find for more info about Counter [**here**](https://docs.python.org/2/library/collections.html#collections.Counter)."
   ]
  },
  {
   "cell_type": "code",
   "execution_count": 5,
   "metadata": {},
   "outputs": [
    {
     "data": {
      "text/plain": [
       "Counter({51: 83,\n",
       "         46: 53,\n",
       "         48: 73,\n",
       "         50: 76,\n",
       "         47: 56,\n",
       "         52: 82,\n",
       "         43: 24,\n",
       "         53: 61,\n",
       "         58: 17,\n",
       "         54: 64,\n",
       "         44: 43,\n",
       "         49: 83,\n",
       "         57: 37,\n",
       "         42: 23,\n",
       "         60: 11,\n",
       "         61: 10,\n",
       "         55: 46,\n",
       "         41: 18,\n",
       "         56: 53,\n",
       "         59: 11,\n",
       "         45: 35,\n",
       "         34: 1,\n",
       "         65: 2,\n",
       "         62: 7,\n",
       "         35: 2,\n",
       "         39: 6,\n",
       "         37: 4,\n",
       "         38: 4,\n",
       "         40: 12,\n",
       "         63: 2,\n",
       "         64: 1})"
      ]
     },
     "execution_count": 5,
     "metadata": {},
     "output_type": "execute_result"
    }
   ],
   "source": [
    "# count occurence of each number from 'succees_list' using Counter and store the result in 'count_occurence'\\n\",\n",
    "count_occurence = Counter(successes_list)\n",
    "count_occurence"
   ]
  },
  {
   "cell_type": "code",
   "execution_count": null,
   "metadata": {},
   "outputs": [],
   "source": []
  },
  {
   "cell_type": "markdown",
   "metadata": {
    "ExecuteTime": {
     "end_time": "2020-02-05T17:54:43.571225Z",
     "start_time": "2020-02-05T17:54:43.568147Z"
    }
   },
   "source": [
    "#### Count the probability for each number from `count_occurence` and store the result in `probas`\n"
   ]
  },
  {
   "cell_type": "code",
   "execution_count": 15,
   "metadata": {},
   "outputs": [],
   "source": [
    "probas={}\n",
    "for n in count_occurence.keys():\n",
    "    probas[n]=count_occurence[n]/1000\n",
    "#probas = [val/sum(count_occurence.values()) for val in count_occurence.values()]"
   ]
  },
  {
   "cell_type": "code",
   "execution_count": 16,
   "metadata": {},
   "outputs": [
    {
     "data": {
      "image/png": "[encoded data removed]",
      "text/plain": [
       "<Figure size 432x288 with 1 Axes>"
      ]
     },
     "metadata": {},
     "output_type": "display_data"
    }
   ],
   "source": [
    "# plot distribution (PMF) of 'succes_list'\n",
    "plt.scatter(x=probas.keys(), y=probas.values())\n",
    "plt.xlabel('number of succeess out of 100')\n",
    "plt.ylabel('probability')\n",
    "# Show the plot\n",
    "\n",
    "plt.show()"
   ]
  },
  {
   "cell_type": "markdown",
   "metadata": {},
   "source": [
    "Below you have some information about how to do plots in Python. We will be covering all of this during the bootcamp. But you can find these basics here so we can visualize the distributions."
   ]
  },
  {
   "cell_type": "raw",
   "metadata": {
    "ExecuteTime": {
     "end_time": "2020-02-05T17:54:44.056628Z",
     "start_time": "2020-02-05T17:54:43.850076Z"
    }
   },
   "source": [
    "# plot distribution (PMF) of 'succes_list'\n",
    "plt.scatter(x=count_occurence.keys(), y=probas)\n",
    "plt.xlabel('number of succeess out of 100')\n",
    "plt.ylabel('probability')\n",
    "# Show the plot\n",
    "\n",
    "plt.show()\n"
   ]
  },
  {
   "cell_type": "markdown",
   "metadata": {
    "ExecuteTime": {
     "end_time": "2020-02-05T17:54:44.112264Z",
     "start_time": "2020-02-05T17:54:44.096570Z"
    }
   },
   "source": [
    "#### Generate 100000 numbers from uniform distribution with parameters a = 1, b = 6\n"
   ]
  },
  {
   "cell_type": "code",
   "execution_count": 22,
   "metadata": {},
   "outputs": [],
   "source": [
    "uniform_dist = np.random.uniform(1,6,100000)"
   ]
  },
  {
   "cell_type": "code",
   "execution_count": null,
   "metadata": {},
   "outputs": [],
   "source": []
  },
  {
   "cell_type": "code",
   "execution_count": 23,
   "metadata": {
    "ExecuteTime": {
     "end_time": "2020-02-05T17:54:44.515039Z",
     "start_time": "2020-02-05T17:54:44.330746Z"
    },
    "tags": []
   },
   "outputs": [
    {
     "data": {
      "image/png": "[encoded data removed]",
      "text/plain": [
       "<Figure size 432x288 with 1 Axes>"
      ]
     },
     "metadata": {},
     "output_type": "display_data"
    }
   ],
   "source": [
    "# plot histogram of uniform distribution with paramsdensity=True, bins=6\n",
    "plt.hist(uniform_dist, density=True, bins=6)\n",
    "plt.ylabel('density')\n",
    "plt.xlabel('value')\n",
    "plt.show()"
   ]
  },
  {
   "cell_type": "markdown",
   "metadata": {
    "ExecuteTime": {
     "end_time": "2020-02-05T17:54:44.583762Z",
     "start_time": "2020-02-05T17:54:44.555162Z"
    }
   },
   "source": [
    "#### Check the mean of uniform data (using NumPy)"
   ]
  },
  {
   "cell_type": "code",
   "execution_count": 17,
   "metadata": {},
   "outputs": [
    {
     "data": {
      "text/plain": [
       "3.491283428921196"
      ]
     },
     "execution_count": 17,
     "metadata": {},
     "output_type": "execute_result"
    }
   ],
   "source": [
    "np.mean(uniform_dist)"
   ]
  },
  {
   "cell_type": "code",
   "execution_count": null,
   "metadata": {},
   "outputs": [],
   "source": []
  },
  {
   "cell_type": "markdown",
   "metadata": {
    "ExecuteTime": {
     "end_time": "2020-02-05T17:54:44.758510Z",
     "start_time": "2020-02-05T17:54:44.752087Z"
    }
   },
   "source": [
    "#### Generate 100000 numbers from exponential distribution with parameter beta = 0.5\n",
    "\n",
    "The exponential distribution is sometimes parametrized in terms of the scale parameter **β = 1/λ**. We were reading about the **λ** in the previous reading."
   ]
  },
  {
   "cell_type": "code",
   "execution_count": 19,
   "metadata": {},
   "outputs": [],
   "source": [
    "exp_dist = np.random.exponential(0.5,100000)"
   ]
  },
  {
   "cell_type": "code",
   "execution_count": null,
   "metadata": {},
   "outputs": [],
   "source": []
  },
  {
   "cell_type": "markdown",
   "metadata": {
    "ExecuteTime": {
     "end_time": "2020-02-05T17:54:45.134091Z",
     "start_time": "2020-02-05T17:54:44.956351Z"
    }
   },
   "source": [
    "#### Plot histogram of exponential distribution with params `density=True`, `bins=100`\n"
   ]
  },
  {
   "cell_type": "code",
   "execution_count": 20,
   "metadata": {},
   "outputs": [
    {
     "data": {
      "image/png": "[encoded data removed]",
      "text/plain": [
       "<Figure size 432x288 with 1 Axes>"
      ]
     },
     "metadata": {},
     "output_type": "display_data"
    }
   ],
   "source": [
    "plt.hist(exp_dist, density=True, bins=100)\n",
    "plt.ylabel('density')\n",
    "plt.xlabel('value')\n",
    "plt.show()"
   ]
  },
  {
   "cell_type": "code",
   "execution_count": null,
   "metadata": {},
   "outputs": [],
   "source": []
  },
  {
   "cell_type": "markdown",
   "metadata": {
    "ExecuteTime": {
     "end_time": "2020-02-05T17:54:45.187080Z",
     "start_time": "2020-02-05T17:54:45.171406Z"
    }
   },
   "source": [
    "#### Check the mean of exponential data"
   ]
  },
  {
   "cell_type": "code",
   "execution_count": 21,
   "metadata": {},
   "outputs": [
    {
     "data": {
      "text/plain": [
       "0.501338230149807"
      ]
     },
     "execution_count": 21,
     "metadata": {},
     "output_type": "execute_result"
    }
   ],
   "source": [
    "np.mean(exp_dist)"
   ]
  },
  {
   "cell_type": "code",
   "execution_count": null,
   "metadata": {},
   "outputs": [],
   "source": []
  }
 ],
 "metadata": {
  "kernelspec": {
   "display_name": "Python 3 (ipykernel)",
   "language": "python",
   "name": "python3"
  },
  "language_info": {
   "codemirror_mode": {
    "name": "ipython",
    "version": 3
   },
   "file_extension": ".py",
   "mimetype": "text/x-python",
   "name": "python",
   "nbconvert_exporter": "python",
   "pygments_lexer": "ipython3",
   "version": "3.8.8"
  },
  "toc": {
   "base_numbering": 1,
   "nav_menu": {},
   "number_sections": true,
   "sideBar": true,
   "skip_h1_title": false,
   "title_cell": "Table of Contents",
   "title_sidebar": "Contents",
   "toc_cell": false,
   "toc_position": {},
   "toc_section_display": true,
   "toc_window_display": false
  },
  "varInspector": {
   "cols": {
    "lenName": 16,
    "lenType": 16,
    "lenVar": 40
   },
   "kernels_config": {
    "python": {
     "delete_cmd_postfix": "",
     "delete_cmd_prefix": "del ",
     "library": "var_list.py",
     "varRefreshCmd": "print(var_dic_list())"
    },
    "r": {
     "delete_cmd_postfix": ") ",
     "delete_cmd_prefix": "rm(",
     "library": "var_list.r",
     "varRefreshCmd": "cat(var_dic_list()) "
    }
   },
   "types_to_exclude": [
    "module",
    "function",
    "builtin_function_or_method",
    "instance",
    "_Feature"
   ],
   "window_display": false
  }
 },
 "nbformat": 4,
 "nbformat_minor": 4
}
